{
  "nbformat": 4,
  "nbformat_minor": 0,
  "metadata": {
    "colab": {
      "provenance": [],
      "authorship_tag": "ABX9TyPLaLgwwXNYA6qNftaDci7b",
      "include_colab_link": true
    },
    "kernelspec": {
      "name": "python3",
      "display_name": "Python 3"
    },
    "language_info": {
      "name": "python"
    }
  },
  "cells": [
    {
      "cell_type": "markdown",
      "metadata": {
        "id": "view-in-github",
        "colab_type": "text"
      },
      "source": [
        "<a href=\"https://colab.research.google.com/github/aswin24012004/Data-Projects/blob/main/Foodpanda_Data_Analysis.ipynb\" target=\"_parent\"><img src=\"https://colab.research.google.com/assets/colab-badge.svg\" alt=\"Open In Colab\"/></a>"
      ]
    },
    {
      "cell_type": "code",
      "execution_count": 2,
      "metadata": {
        "id": "VBR7tWE9RySs"
      },
      "outputs": [],
      "source": [
        "# ⚙️ 1. Setup PySpark Session\n",
        "\n",
        "from pyspark.sql import SparkSession\n",
        "spark = SparkSession.builder.appName(\"Foodpanda Analysis\").getOrCreate()"
      ]
    },
    {
      "cell_type": "code",
      "source": [
        "# 📥 2. Load the Dataset\n",
        "\n",
        "df = spark.read.csv('/content/Foodpanda Analysis Dataset.csv',header=True, inferSchema=True)\n",
        "df.printSchema()\n",
        "df.show()"
      ],
      "metadata": {
        "colab": {
          "base_uri": "https://localhost:8080/"
        },
        "id": "Dj-QGX7sSuMU",
        "outputId": "fb4b6c67-e676-455e-9cc9-76a0a74443c7"
      },
      "execution_count": 12,
      "outputs": [
        {
          "output_type": "stream",
          "name": "stdout",
          "text": [
            "root\n",
            " |-- customer_id: string (nullable = true)\n",
            " |-- gender: string (nullable = true)\n",
            " |-- age: string (nullable = true)\n",
            " |-- city: string (nullable = true)\n",
            " |-- signup_date: string (nullable = true)\n",
            " |-- order_id: string (nullable = true)\n",
            " |-- order_date: string (nullable = true)\n",
            " |-- restaurant_name: string (nullable = true)\n",
            " |-- dish_name: string (nullable = true)\n",
            " |-- category: string (nullable = true)\n",
            " |-- quantity: integer (nullable = true)\n",
            " |-- price: double (nullable = true)\n",
            " |-- payment_method: string (nullable = true)\n",
            " |-- order_frequency: integer (nullable = true)\n",
            " |-- last_order_date: string (nullable = true)\n",
            " |-- loyalty_points: integer (nullable = true)\n",
            " |-- churned: string (nullable = true)\n",
            " |-- rating: integer (nullable = true)\n",
            " |-- rating_date: string (nullable = true)\n",
            " |-- delivery_status: string (nullable = true)\n",
            "\n",
            "+-----------+------+--------+---------+-----------+--------+----------+---------------+---------+-----------+--------+-------+--------------+---------------+---------------+--------------+--------+------+-----------+---------------+\n",
            "|customer_id|gender|     age|     city|signup_date|order_id|order_date|restaurant_name|dish_name|   category|quantity|  price|payment_method|order_frequency|last_order_date|loyalty_points| churned|rating|rating_date|delivery_status|\n",
            "+-----------+------+--------+---------+-----------+--------+----------+---------------+---------+-----------+--------+-------+--------------+---------------+---------------+--------------+--------+------+-----------+---------------+\n",
            "|      C5663|  Male|   Adult| Peshawar|  1/14/2024|   O9663| 8/23/2023|     McDonald's|   Burger|    Italian|       5|1478.27|          Cash|             38|      7/19/2025|           238|  Active|     3| 10/14/2024|      Cancelled|\n",
            "|      C2831|  Male|   Adult|   Multan|   7/7/2024|   O6831| 8/23/2023|            KFC|   Burger|    Italian|       3| 956.04|        Wallet|             24|     11/25/2024|            81|  Active|     2|  8/21/2025|        Delayed|\n",
            "|      C2851| Other|  Senior|   Multan|  6/20/2025|   O6851| 8/23/2023|      Pizza Hut|    Fries|    Italian|       2| 882.51|          Cash|             42|      5/10/2025|            82|Inactive|     3|  9/19/2024|        Delayed|\n",
            "|      C1694|Female|  Senior| Peshawar|   9/5/2023|   O5694| 8/23/2023|         Subway|    Pizza|    Dessert|       4|  231.3|          Card|             27|      7/24/2025|            45|Inactive|     2|  6/29/2025|        Delayed|\n",
            "|      C4339| Other|  Senior|   Lahore| 12/29/2023|   O8339| 8/24/2023|            KFC| Sandwich|    Dessert|       1|1156.69|          Cash|             35|     12/21/2024|           418|Inactive|     3|   3/6/2025|      Cancelled|\n",
            "|      C6543| Other|   Adult|  Karachi|  9/28/2023|  O10543| 8/24/2023|    Burger King|    Pizza|  Fast Food|       5|1213.62|          Cash|             45|     10/10/2024|           418|Inactive|     4|   6/1/2025|      Delivered|\n",
            "|      C6423|  Male|   Adult|   Lahore|   4/8/2025|  O10423| 8/24/2023|     McDonald's|    Pasta|Continental|       5| 672.91|        Wallet|             31|      5/25/2025|           347|  Active|     1|   3/4/2025|      Cancelled|\n",
            "|      C4621|  Male|   Adult| Peshawar|   2/5/2024|   O8621| 8/24/2023|      Pizza Hut|    Pizza|    Chinese|       2| 271.74|          Cash|             14|       5/1/2025|           429|  Active|     2|  9/30/2024|      Delivered|\n",
            "|      C5146| Other|  Senior|  Karachi| 12/17/2024|   O9146| 8/24/2023|            KFC|    Pizza|    Dessert|       5| 596.96|        Wallet|              1|      5/16/2025|            24|  Active|     4| 10/27/2024|        Delayed|\n",
            "|      C3579|  Male|   Adult|  Karachi| 10/13/2023|   O7579| 8/24/2023|      Pizza Hut|    Pizza|Continental|       2|1443.25|          Cash|             15|      2/23/2025|           270|Inactive|     3| 10/11/2024|        Delayed|\n",
            "|      C5535|  Male|   Adult|   Lahore|  7/30/2025|   O9535| 8/24/2023|         Subway| Sandwich|Continental|       2| 645.52|          Cash|             32|       4/8/2025|           133|  Active|     4|  12/5/2024|        Delayed|\n",
            "|      C3894|Female|  Senior|   Multan|  1/24/2025|   O7894| 8/24/2023|    Burger King|   Burger|  Fast Food|       1| 126.53|        Wallet|             45|      9/26/2024|            48|Inactive|     2|  8/20/2025|      Cancelled|\n",
            "|      C4071|  Male|  Senior|Islamabad| 12/27/2024|   O8071| 8/24/2023|         Subway|    Pizza|    Italian|       1| 465.75|          Card|             29|     12/26/2024|           394|  Active|     4|  4/16/2025|      Cancelled|\n",
            "|      C4231|Female|  Senior|   Multan|  4/11/2025|   O8231| 8/24/2023|    Burger King| Sandwich|Continental|       3| 796.91|        Wallet|             39|     11/12/2024|             5|Inactive|     5|  2/27/2025|      Delivered|\n",
            "|      C3914|  Male|Teenager|Islamabad| 11/29/2023|   O7914| 8/24/2023|            KFC|    Pizza|  Fast Food|       4|1140.76|        Wallet|             23|      4/22/2025|           492|Inactive|     5|  4/19/2025|        Delayed|\n",
            "|      C5681| Other|   Adult|Islamabad| 11/25/2024|   O9681| 8/25/2023|         Subway|    Pizza|Continental|       1|1285.18|          Cash|             10|       4/9/2025|           196|Inactive|     2|  6/10/2025|        Delayed|\n",
            "|      C4975|Female|Teenager|  Karachi|  6/20/2025|   O8975| 8/25/2023|    Burger King|   Burger|    Dessert|       1| 673.86|        Wallet|             38|       7/7/2025|           439|Inactive|     2|   7/9/2025|      Delivered|\n",
            "|      C2876|Female|  Senior|Islamabad| 12/30/2024|   O6876| 8/25/2023|            KFC|   Burger|    Chinese|       2| 330.93|          Cash|             45|      7/17/2025|           455|  Active|     2| 11/28/2024|      Cancelled|\n",
            "|      C6144| Other|Teenager| Peshawar|   8/5/2024|  O10144| 8/25/2023|         Subway|    Pasta|  Fast Food|       2| 991.17|        Wallet|              6|      4/22/2025|           101|  Active|     2|  3/27/2025|      Cancelled|\n",
            "|      C5092|Female|   Adult|   Lahore|  10/5/2023|   O9092| 8/25/2023|         Subway|    Pasta|    Chinese|       1|1485.16|          Card|             46|      4/24/2025|           171|Inactive|     3|   8/5/2025|        Delayed|\n",
            "+-----------+------+--------+---------+-----------+--------+----------+---------------+---------+-----------+--------+-------+--------------+---------------+---------------+--------------+--------+------+-----------+---------------+\n",
            "only showing top 20 rows\n",
            "\n"
          ]
        }
      ]
    },
    {
      "cell_type": "code",
      "source": [
        "df = df.dropDuplicates()\n",
        "df = df.dropna(subset=[\"Restaurant_Name\", \"Rating\", \"Price\", \"order_date\", \"customer_id\"])\n",
        "\n",
        "# Convert numeric columns\n",
        "df = df.withColumn(\"Price\", col(\"Price\").cast(\"float\")) \\\n",
        "       .withColumn(\"Rating\", col(\"Rating\").cast(\"float\")) \\\n",
        "       .withColumn(\"quantity\", col(\"quantity\").cast(\"int\")) \\\n",
        "       .withColumn(\"loyalty_points\", col(\"loyalty_points\").cast(\"int\")) \\\n",
        "       .withColumn(\"order_frequency\", col(\"order_frequency\").cast(\"int\"))\n",
        "\n",
        "df.printSchema()\n",
        "df.show(5)"
      ],
      "metadata": {
        "colab": {
          "base_uri": "https://localhost:8080/"
        },
        "id": "sOd_DQ3dTH-z",
        "outputId": "60b6c924-cdc4-432d-e658-b7584703ed3a"
      },
      "execution_count": 5,
      "outputs": [
        {
          "output_type": "stream",
          "name": "stdout",
          "text": [
            "root\n",
            " |-- customer_id: string (nullable = true)\n",
            " |-- gender: string (nullable = true)\n",
            " |-- age: string (nullable = true)\n",
            " |-- city: string (nullable = true)\n",
            " |-- signup_date: string (nullable = true)\n",
            " |-- order_id: string (nullable = true)\n",
            " |-- order_date: string (nullable = true)\n",
            " |-- restaurant_name: string (nullable = true)\n",
            " |-- dish_name: string (nullable = true)\n",
            " |-- category: string (nullable = true)\n",
            " |-- quantity: integer (nullable = true)\n",
            " |-- Price: float (nullable = true)\n",
            " |-- payment_method: string (nullable = true)\n",
            " |-- order_frequency: integer (nullable = true)\n",
            " |-- last_order_date: string (nullable = true)\n",
            " |-- loyalty_points: integer (nullable = true)\n",
            " |-- churned: string (nullable = true)\n",
            " |-- Rating: float (nullable = true)\n",
            " |-- rating_date: string (nullable = true)\n",
            " |-- delivery_status: string (nullable = true)\n",
            "\n",
            "+-----------+------+--------+---------+-----------+--------+----------+---------------+---------+-----------+--------+-------+--------------+---------------+---------------+--------------+--------+------+-----------+---------------+\n",
            "|customer_id|gender|     age|     city|signup_date|order_id|order_date|restaurant_name|dish_name|   category|quantity|  Price|payment_method|order_frequency|last_order_date|loyalty_points| churned|Rating|rating_date|delivery_status|\n",
            "+-----------+------+--------+---------+-----------+--------+----------+---------------+---------+-----------+--------+-------+--------------+---------------+---------------+--------------+--------+------+-----------+---------------+\n",
            "|      C4339| Other|  Senior|   Lahore| 12/29/2023|   O8339| 8/24/2023|            KFC| Sandwich|    Dessert|       1|1156.69|          Cash|             35|     12/21/2024|           418|Inactive|   3.0|   3/6/2025|      Cancelled|\n",
            "|      C3239|Female|  Senior|   Lahore|  9/13/2023|   O7239| 8/31/2023|      Pizza Hut|    Fries|    Chinese|       5|1475.86|          Card|             13|      7/13/2025|            59|  Active|   4.0|   2/9/2025|      Cancelled|\n",
            "|      C4849|Female|   Adult|   Multan|  7/22/2024|   O8849| 9/20/2023|            KFC|   Burger|Continental|       1|1323.97|          Card|             36|       5/1/2025|           448|Inactive|   5.0|   8/2/2025|        Delayed|\n",
            "|      C6829| Other|Teenager|Islamabad|  6/11/2024|  O10829| 10/6/2023|    Burger King|   Burger|Continental|       3|1257.67|          Card|             48|      3/29/2025|           252|  Active|   1.0| 10/25/2024|      Delivered|\n",
            "|      C3616|  Male|  Senior|  Karachi|  5/16/2024|   O7616| 10/6/2023|     McDonald's|    Fries|    Italian|       5|1111.88|        Wallet|              1|      11/5/2024|           202|Inactive|   5.0|  6/23/2025|        Delayed|\n",
            "+-----------+------+--------+---------+-----------+--------+----------+---------------+---------+-----------+--------+-------+--------------+---------------+---------------+--------------+--------+------+-----------+---------------+\n",
            "only showing top 5 rows\n",
            "\n"
          ]
        }
      ]
    },
    {
      "cell_type": "code",
      "source": [
        "# Basic analysis\n",
        "\n",
        "from pyspark.sql.functions import count, avg, max, min\n",
        "\n",
        "print(\"Total coustomer: \", df.count())\n",
        "print(\"Unique Customers:\", df.select(\"Customer_id\").distinct().count())"
      ],
      "metadata": {
        "colab": {
          "base_uri": "https://localhost:8080/"
        },
        "id": "6gtCwP0TWr7w",
        "outputId": "d90d2e04-c0d1-4154-f9c1-623dd46f6e24"
      },
      "execution_count": 6,
      "outputs": [
        {
          "output_type": "stream",
          "name": "stdout",
          "text": [
            "Total coustomer:  6000\n",
            "Unique Customers: 6000\n"
          ]
        }
      ]
    },
    {
      "cell_type": "code",
      "source": [
        "\n",
        "\n",
        "df.select(avg(\"Price\").alias(\"Avg_Price\"), avg(\"Rating\").alias(\"Avg_Rating\")).show()\n"
      ],
      "metadata": {
        "colab": {
          "base_uri": "https://localhost:8080/"
        },
        "id": "w82MfZLhXU5v",
        "outputId": "02e9ce57-f3fa-4672-e014-f21a60f5f8d8"
      },
      "execution_count": 7,
      "outputs": [
        {
          "output_type": "stream",
          "name": "stdout",
          "text": [
            "+-----------------+------------------+\n",
            "|        Avg_Price|        Avg_Rating|\n",
            "+-----------------+------------------+\n",
            "|800.5248802922566|2.9968333333333335|\n",
            "+-----------------+------------------+\n",
            "\n"
          ]
        }
      ]
    },
    {
      "cell_type": "code",
      "source": [
        "# Top 10 restaurants by total orders\n",
        "df.groupBy(\"Restaurant_Name\") \\\n",
        "  .agg(count(\"*\").alias(\"Total_Orders\")) \\\n",
        "  .orderBy(col(\"Total_Orders\").desc()) \\\n",
        "  .show(10)"
      ],
      "metadata": {
        "colab": {
          "base_uri": "https://localhost:8080/"
        },
        "id": "kbH-_lK9YFvQ",
        "outputId": "d382a64a-0e2e-4922-d221-93d33b6ecb20"
      },
      "execution_count": 8,
      "outputs": [
        {
          "output_type": "stream",
          "name": "stdout",
          "text": [
            "+---------------+------------+\n",
            "|Restaurant_Name|Total_Orders|\n",
            "+---------------+------------+\n",
            "|         Subway|        1260|\n",
            "|      Pizza Hut|        1224|\n",
            "|            KFC|        1224|\n",
            "|    Burger King|        1151|\n",
            "|     McDonald's|        1141|\n",
            "+---------------+------------+\n",
            "\n"
          ]
        }
      ]
    },
    {
      "cell_type": "code",
      "source": [
        "# Average spending and rating by city\n",
        "df.groupBy(\"city\") \\\n",
        "  .agg(avg(\"Price\").alias(\"Avg_Price\"),avg(\"Rating\").alias(\"Ave_Rating\")) \\\n",
        "  .orderBy(col(\"Avg_Price\").desc()) \\\n",
        "  .show(10)"
      ],
      "metadata": {
        "colab": {
          "base_uri": "https://localhost:8080/"
        },
        "id": "elVN38V7Y_ml",
        "outputId": "f50f737b-3336-4384-cac6-e822060a9b10"
      },
      "execution_count": 9,
      "outputs": [
        {
          "output_type": "stream",
          "name": "stdout",
          "text": [
            "+---------+-----------------+------------------+\n",
            "|     city|        Avg_Price|        Ave_Rating|\n",
            "+---------+-----------------+------------------+\n",
            "| Peshawar|824.3610559950314| 2.993305439330544|\n",
            "|   Multan| 803.346870756453| 3.004777070063694|\n",
            "|Islamabad|795.0891744393507|2.9949452401010954|\n",
            "|   Lahore|793.0045028159926| 2.989317995069844|\n",
            "|  Karachi|786.1806289806116|  3.00174672489083|\n",
            "+---------+-----------------+------------------+\n",
            "\n"
          ]
        }
      ]
    },
    {
      "cell_type": "code",
      "source": [
        "# Top rated restaurants\n",
        "df.groupBy(\"Restaurant_Name\") \\\n",
        "  .agg(avg(\"Rating\").alias(\"Avg_Rating\"), count(\"*\").alias(\"Num_Reviews\")) \\\n",
        "  .orderBy(col(\"Avg_Rating\").desc()) \\\n",
        "  .show(10)"
      ],
      "metadata": {
        "colab": {
          "base_uri": "https://localhost:8080/"
        },
        "id": "kUMIvekeZyg5",
        "outputId": "1c45ddbb-4d04-465a-9861-eebc480a1e34"
      },
      "execution_count": 10,
      "outputs": [
        {
          "output_type": "stream",
          "name": "stdout",
          "text": [
            "+---------------+------------------+-----------+\n",
            "|Restaurant_Name|        Avg_Rating|Num_Reviews|\n",
            "+---------------+------------------+-----------+\n",
            "|         Subway|3.0873015873015874|       1260|\n",
            "|     McDonald's|3.0026292725679227|       1141|\n",
            "|            KFC| 2.974673202614379|       1224|\n",
            "|    Burger King|2.9661164205039094|       1151|\n",
            "|      Pizza Hut|2.9493464052287583|       1224|\n",
            "+---------------+------------------+-----------+\n",
            "\n"
          ]
        }
      ]
    },
    {
      "cell_type": "code",
      "source": [
        "df.describe()"
      ],
      "metadata": {
        "colab": {
          "base_uri": "https://localhost:8080/"
        },
        "id": "fO7WZ5EKaC3E",
        "outputId": "5a513cbb-4d58-4213-c356-d54e2f7187ac"
      },
      "execution_count": 11,
      "outputs": [
        {
          "output_type": "execute_result",
          "data": {
            "text/plain": [
              "DataFrame[summary: string, customer_id: string, gender: string, age: string, city: string, signup_date: string, order_id: string, order_date: string, restaurant_name: string, dish_name: string, category: string, quantity: string, Price: string, payment_method: string, order_frequency: string, last_order_date: string, loyalty_points: string, churned: string, Rating: string, rating_date: string, delivery_status: string]"
            ]
          },
          "metadata": {},
          "execution_count": 11
        }
      ]
    },
    {
      "cell_type": "code",
      "source": [],
      "metadata": {
        "id": "W7ozGFcdSQ57"
      },
      "execution_count": null,
      "outputs": []
    }
  ]
}