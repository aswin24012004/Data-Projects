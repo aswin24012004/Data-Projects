{
  "nbformat": 4,
  "nbformat_minor": 0,
  "metadata": {
    "colab": {
      "provenance": [],
      "authorship_tag": "ABX9TyOLxf7qo26p8LUbsNruNVRo",
      "include_colab_link": true
    },
    "kernelspec": {
      "name": "python3",
      "display_name": "Python 3"
    },
    "language_info": {
      "name": "python"
    }
  },
  "cells": [
    {
      "cell_type": "markdown",
      "metadata": {
        "id": "view-in-github",
        "colab_type": "text"
      },
      "source": [
        "<a href=\"https://colab.research.google.com/github/aswin24012004/Data-Projects/blob/main/GtaViceCityETL.ipynb\" target=\"_parent\"><img src=\"https://colab.research.google.com/assets/colab-badge.svg\" alt=\"Open In Colab\"/></a>"
      ]
    },
    {
      "cell_type": "code",
      "execution_count": 1,
      "metadata": {
        "id": "MytMOEM_BbvG"
      },
      "outputs": [],
      "source": [
        "from pyspark.sql import SparkSession\n",
        "from pyspark.sql.functions import col, regexp_replace\n",
        "from pyspark.sql.types import IntegerType"
      ]
    },
    {
      "cell_type": "code",
      "source": [
        "def main():\n",
        "    spark = SparkSession.builder \\\n",
        "        .appName(\"GtaViceCityETL\") \\\n",
        "        .getOrCreate()\n",
        "\n",
        "    try:\n",
        "        print(\"Extracting data from GTA Vice_City.csv...\")\n",
        "        df = spark.read.csv('/content/GTA Vice_City.csv', header=True, inferSchema=True)\n",
        "        print(\"Extraction complete.\")\n",
        "\n",
        "        # --- 2. TRANSFORM ---\n",
        "        print(\"Transforming data...\")\n",
        "        # a. Select only the columns we need for our analysis.\n",
        "        df_transformed = df.select(\n",
        "            'id', 'language', 'review', 'created',\n",
        "            'voted_up', 'votes_up', 'comment_count'\n",
        "        )\n",
        "\n",
        "        df_transformed = df_transformed.withColumn(\n",
        "            'review',\n",
        "            regexp_replace(col('review'), r'[^A-Za-z0-9\\s]+', '')\n",
        "        ).withColumn(\n",
        "            'review',\n",
        "            regexp_replace(col('review'), r'\\s+', ' ')\n",
        "        )\n",
        "\n",
        "        # c. Cast the 'voted_up' column from boolean (or string) to an integer.\n",
        "        df_transformed = df_transformed.withColumn(\n",
        "            'voted_up',\n",
        "            col('voted_up').cast(IntegerType())\n",
        "        )\n",
        "        print(\"Transformation complete.\")\n",
        "\n",
        "        print(\"\\n--- Transformed Data (Top 20 Rows) ---\")\n",
        "        df_transformed.show()\n",
        "\n",
        "    except Exception as e:\n",
        "        if \"Path does not exist\" in str(e):\n",
        "            print(\"Error: 'GTA Vice_City.csv' not found. Please ensure the file is in the same directory as the script.\")\n",
        "        else:\n",
        "            print(f\"An error occurred: {e}\")\n",
        "\n",
        "    finally:\n",
        "        spark.stop()\n"
      ],
      "metadata": {
        "id": "6fDkROPkBgQ-"
      },
      "execution_count": 2,
      "outputs": []
    },
    {
      "cell_type": "code",
      "source": [
        "if __name__ == \"__main__\":\n",
        "    main()"
      ],
      "metadata": {
        "colab": {
          "base_uri": "https://localhost:8080/"
        },
        "id": "91-zeWwTBnYi",
        "outputId": "fd016787-481b-406c-cf56-9f8d15b44d4e"
      },
      "execution_count": 4,
      "outputs": [
        {
          "output_type": "stream",
          "name": "stdout",
          "text": [
            "Extracting data from GTA Vice_City.csv...\n",
            "Extraction complete.\n",
            "Transforming data...\n",
            "Transformation complete.\n",
            "\n",
            "--- Transformed Data (Top 20 Rows) ---\n",
            "+--------------------+-------------------+--------------------+-------------------+--------+--------+-------------+\n",
            "|                  id|           language|              review|            created|voted_up|votes_up|comment_count|\n",
            "+--------------------+-------------------+--------------------+-------------------+--------+--------+-------------+\n",
            "|           157337410|            english|Games good But Ro...|2024-02-01 16:00:22|    NULL|       0|            0|\n",
            "|           157337371|            english|modders make it b...|2024-02-01 15:59:57|    NULL|       0|            0|\n",
            "|           157337210|            english|          great game|2024-02-01 15:57:48|    NULL|       0|            0|\n",
            "|           157336468|            english|                best|2024-02-01 15:47:51|    NULL|       0|            0|\n",
            "|           157335380|            english|                 sed|2024-02-01 15:32:26|    NULL|       0|            0|\n",
            "|           157335196|            english|        old but good|               NULL|    NULL|    NULL|         NULL|\n",
            "|,2024-02-01 15:29...|               NULL|                NULL|               NULL|    NULL|    NULL|         NULL|\n",
            "|           157334563|            english|                 fun|               NULL|    NULL|    NULL|         NULL|\n",
            "|,2024-02-01 15:20...|               NULL|                NULL|               NULL|    NULL|    NULL|         NULL|\n",
            "|           157334415|            english|theres a car with...|2024-02-01 15:18:10|    NULL|       0|            0|\n",
            "|           157334272|            english|                   f|2024-02-01 15:16:13|    NULL|       0|            0|\n",
            "|           157333650|            english|there some missio...|               NULL|    NULL|    NULL|         NULL|\n",
            "|but there also si...|2024-02-01 15:06:41|                True|                  0|       0|    True|        False|\n",
            "|           157333372|            english| no sexy anime girls|2024-02-01 15:02:29|    NULL|       0|            0|\n",
            "|           157332777|            english|                   a|2024-02-01 14:53:16|    NULL|       0|            0|\n",
            "|           157331677|            english|shit economy and ...|2024-02-01 14:35:14|    NULL|       0|            0|\n",
            "|           157331253|            english|                GGWP|2024-02-01 14:28:30|    NULL|       0|            0|\n",
            "|           157330966|            english|very good concept...|2024-02-01 14:23:41|    NULL|       0|            0|\n",
            "|           157330920|            english|                  hi|2024-02-01 14:22:51|    NULL|       0|            0|\n",
            "|           157330788|            english|         What a save|2024-02-01 14:20:46|    NULL|       0|            0|\n",
            "+--------------------+-------------------+--------------------+-------------------+--------+--------+-------------+\n",
            "only showing top 20 rows\n",
            "\n"
          ]
        }
      ]
    },
    {
      "cell_type": "code",
      "source": [],
      "metadata": {
        "id": "Qy53kv9lBrBn"
      },
      "execution_count": null,
      "outputs": []
    },
    {
      "cell_type": "code",
      "source": [],
      "metadata": {
        "id": "Cl42LGLnIXkz"
      },
      "execution_count": null,
      "outputs": []
    }
  ]
}