{
  "nbformat": 4,
  "nbformat_minor": 0,
  "metadata": {
    "colab": {
      "provenance": []
    },
    "kernelspec": {
      "name": "python3",
      "display_name": "Python 3"
    },
    "language_info": {
      "name": "python"
    }
  },
  "cells": [
    {
      "cell_type": "code",
      "execution_count": 1,
      "metadata": {
        "id": "J4Ll9jEjCc73"
      },
      "outputs": [],
      "source": [
        "from pyspark.sql import SparkSession\n",
        "from pyspark.sql.functions import col"
      ]
    },
    {
      "cell_type": "code",
      "source": [
        "spark = SparkSession.builder.appName(\"BMW Worldwide Sales Records (2010–2024)\").getOrCreate()"
      ],
      "metadata": {
        "id": "8aMEA2VQClp5"
      },
      "execution_count": 3,
      "outputs": []
    },
    {
      "cell_type": "code",
      "source": [
        "# df = spark.read.csv('')\n",
        "df = spark.read.option(\"header\", \"true\").option(\"inferSchema\", \"true\").csv(\"/content/BMW sales data (2010-2024) (1).csv\")\n",
        "\n",
        "print(\"✅ Data extracted successfully!\")\n"
      ],
      "metadata": {
        "colab": {
          "base_uri": "https://localhost:8080/",
          "height": 0
        },
        "id": "Se-VfFkaCwi5",
        "outputId": "66e7c159-d826-449d-c6f6-bd10ee707104"
      },
      "execution_count": 15,
      "outputs": [
        {
          "output_type": "stream",
          "name": "stdout",
          "text": [
            "✅ Data extracted successfully!\n"
          ]
        }
      ]
    },
    {
      "cell_type": "code",
      "source": [
        "df.show()"
      ],
      "metadata": {
        "colab": {
          "base_uri": "https://localhost:8080/",
          "height": 0
        },
        "id": "3pdQyAjvKfxG",
        "outputId": "9b75a780-2542-4119-e452-4246ffeacaf8"
      },
      "execution_count": 17,
      "outputs": [
        {
          "output_type": "stream",
          "name": "stdout",
          "text": [
            "+--------+----+-------------+------+---------+------------+-------------+----------+---------+------------+--------------------+\n",
            "|   Model|Year|       Region| Color|Fuel_Type|Transmission|Engine_Size_L|Mileage_KM|Price_USD|Sales_Volume|Sales_Classification|\n",
            "+--------+----+-------------+------+---------+------------+-------------+----------+---------+------------+--------------------+\n",
            "|5 Series|2016|         Asia|   Red|   Petrol|      Manual|          3.5|    151748|  98740.0|        8300|                High|\n",
            "|      i8|2013|North America|   Red|   Hybrid|   Automatic|          1.6|    121671|  79219.0|        3428|                 Low|\n",
            "|5 Series|2022|North America|  Blue|   Petrol|   Automatic|          4.5|     10991| 113265.0|        6994|                 Low|\n",
            "|      X3|2024|  Middle East|  Blue|   Petrol|   Automatic|          1.7|     27255|  60971.0|        4047|                 Low|\n",
            "|7 Series|2020|South America| Black|   Diesel|      Manual|          2.1|    122131|  49898.0|        3080|                 Low|\n",
            "|5 Series|2017|  Middle East|Silver|   Diesel|      Manual|          1.9|    171362|  42926.0|        1232|                 Low|\n",
            "|      i8|2022|       Europe| White|   Diesel|      Manual|          1.8|    196741|  55064.0|        7949|                High|\n",
            "|      M5|2014|         Asia| Black|   Diesel|   Automatic|          1.6|    121156| 102778.0|         632|                 Low|\n",
            "|      X3|2016|South America| White|   Diesel|   Automatic|          1.7|     48073| 116482.0|        8944|                High|\n",
            "|      i8|2019|       Europe| White| Electric|      Manual|          3.0|     35700|  96257.0|        4411|                 Low|\n",
            "|3 Series|2012|  Middle East| White| Electric|      Manual|          2.4|    101595| 117995.0|         500|                 Low|\n",
            "|      i8|2016|North America|  Blue|   Hybrid|      Manual|          1.9|    116863|  74539.0|        8252|                High|\n",
            "|7 Series|2020|North America|Silver|   Diesel|   Automatic|          3.8|     27403| 100015.0|        8111|                High|\n",
            "|5 Series|2020|       Africa| White| Electric|      Manual|          2.3|    163444| 119486.0|        4668|                 Low|\n",
            "|      X1|2017|         Asia| Black| Electric|   Automatic|          1.6|    107918|  34078.0|        7291|                High|\n",
            "|      M3|2014|North America|Silver|   Hybrid|      Manual|          3.0|    154050|  94997.0|        7765|                High|\n",
            "|      X5|2013|         Asia|  Blue| Electric|      Manual|          2.6|    110142| 114844.0|        5561|                 Low|\n",
            "|      M5|2017|North America|   Red|   Diesel|   Automatic|          2.6|     86900|  81934.0|        9755|                High|\n",
            "|5 Series|2017|North America|Silver| Electric|      Manual|          3.1|     57843| 111326.0|        4880|                 Low|\n",
            "|      X5|2012|       Africa|  Blue| Electric|      Manual|          3.8|    142243|  82677.0|        7104|                High|\n",
            "+--------+----+-------------+------+---------+------------+-------------+----------+---------+------------+--------------------+\n",
            "only showing top 20 rows\n",
            "\n"
          ]
        }
      ]
    },
    {
      "cell_type": "code",
      "source": [
        "# E -> Extract\n",
        "df = (df.withColumn(\"Year\", col(\"Year\").cast(\"int\"))\n",
        "        .withColumn(\"Engine_Size_L\", col(\"Engine_Size_L\").cast(\"float\"))\n",
        "        .withColumn(\"Price_USD\", col(\"Price_USD\").cast(\"float\"))\n",
        "        .withColumn(\"Sales_Volume\", col(\"Sales_Volume\").cast(\"int\")))\n"
      ],
      "metadata": {
        "collapsed": true,
        "id": "PW7CrbKmDkS7"
      },
      "execution_count": 16,
      "outputs": []
    },
    {
      "cell_type": "code",
      "source": [
        "df.printSchema()"
      ],
      "metadata": {
        "colab": {
          "base_uri": "https://localhost:8080/",
          "height": 0
        },
        "id": "BqnajGHcKiua",
        "outputId": "85040c90-eb04-4887-c964-b0b5bf92e893"
      },
      "execution_count": 18,
      "outputs": [
        {
          "output_type": "stream",
          "name": "stdout",
          "text": [
            "root\n",
            " |-- Model: string (nullable = true)\n",
            " |-- Year: integer (nullable = true)\n",
            " |-- Region: string (nullable = true)\n",
            " |-- Color: string (nullable = true)\n",
            " |-- Fuel_Type: string (nullable = true)\n",
            " |-- Transmission: string (nullable = true)\n",
            " |-- Engine_Size_L: float (nullable = true)\n",
            " |-- Mileage_KM: integer (nullable = true)\n",
            " |-- Price_USD: float (nullable = true)\n",
            " |-- Sales_Volume: integer (nullable = true)\n",
            " |-- Sales_Classification: string (nullable = true)\n",
            "\n"
          ]
        }
      ]
    },
    {
      "cell_type": "code",
      "source": [
        "df.head()"
      ],
      "metadata": {
        "colab": {
          "base_uri": "https://localhost:8080/",
          "height": 0
        },
        "id": "aMzwmB8pDq8d",
        "outputId": "088f6d3b-a689-407f-e216-0e003493bee0"
      },
      "execution_count": 20,
      "outputs": [
        {
          "output_type": "execute_result",
          "data": {
            "text/plain": [
              "Row(Model='5 Series', Year=2016, Region='Asia', Color='Red', Fuel_Type='Petrol', Transmission='Manual', Engine_Size_L=3.5, Mileage_KM=151748, Price_USD=98740.0, Sales_Volume=8300, Sales_Classification='High')"
            ]
          },
          "metadata": {},
          "execution_count": 20
        }
      ]
    },
    {
      "cell_type": "code",
      "source": [
        "output_path = \"output/cleaned_data.parquet\"\n",
        "df.write.mode(\"overwrite\").parquet(output_path)\n",
        "print(f\"✅ Data Loaded Successfully into {output_path}\")"
      ],
      "metadata": {
        "colab": {
          "base_uri": "https://localhost:8080/",
          "height": 0
        },
        "id": "C9oHLJG2K6id",
        "outputId": "01019a2a-92aa-469e-8c9d-7a75a0efae5f"
      },
      "execution_count": 21,
      "outputs": [
        {
          "output_type": "stream",
          "name": "stdout",
          "text": [
            "✅ Data Loaded Successfully into output/cleaned_data.parquet\n"
          ]
        }
      ]
    },
    {
      "cell_type": "code",
      "source": [
        "from pyspark.sql.functions import col, round as spark_round, when"
      ],
      "metadata": {
        "id": "MHX7hjzxE388"
      },
      "execution_count": 9,
      "outputs": []
    },
    {
      "cell_type": "code",
      "source": [
        "df = spark.read.parquet(\"output/cleaned_data.parquet\")\n",
        "df.createOrReplaceTempView(\"bmw\")"
      ],
      "metadata": {
        "id": "J-VXDZpqESwO"
      },
      "execution_count": 22,
      "outputs": []
    },
    {
      "cell_type": "code",
      "source": [
        "print(\"📈 Top 5 Models by Sales Volume:\")\n",
        "\n",
        "spark.sql(\"\"\"\n",
        "  select Model,sum(Sales_Volume) as Total_Sales\n",
        "  from bmw\n",
        "  group by model\n",
        "  order by total_sales desc\n",
        "\"\"\").show()"
      ],
      "metadata": {
        "colab": {
          "base_uri": "https://localhost:8080/",
          "height": 0
        },
        "id": "1tTG3pEnLb2M",
        "outputId": "a0d1c11f-2c0a-42a3-9e15-e015933a508d"
      },
      "execution_count": 25,
      "outputs": [
        {
          "output_type": "stream",
          "name": "stdout",
          "text": [
            "📈 Top 5 Models by Sales Volume:\n",
            "+--------+-----------+\n",
            "|   Model|Total_Sales|\n",
            "+--------+-----------+\n",
            "|7 Series|   23786466|\n",
            "|      i8|   23423891|\n",
            "|      X1|   23406060|\n",
            "|3 Series|   23281303|\n",
            "|      i3|   23133849|\n",
            "|5 Series|   23097519|\n",
            "|      M5|   22779688|\n",
            "|      X3|   22745529|\n",
            "|      X5|   22709749|\n",
            "|      X6|   22661986|\n",
            "|      M3|   22349694|\n",
            "+--------+-----------+\n",
            "\n"
          ]
        }
      ]
    },
    {
      "cell_type": "code",
      "source": [
        "print(\"📊 Average Price by Fuel Type:\")\n",
        "spark.sql(\"\"\"\n",
        "    select Fuel_Type, round(avg(Price_USD), 2) as Avg_Price\n",
        "    from bmw\n",
        "    group by Fuel_Type\n",
        "\"\"\").show()"
      ],
      "metadata": {
        "colab": {
          "base_uri": "https://localhost:8080/",
          "height": 0
        },
        "id": "Jx1EPMIUL3-A",
        "outputId": "8cf19d59-f8a7-4823-f087-303a0fccd374"
      },
      "execution_count": 27,
      "outputs": [
        {
          "output_type": "stream",
          "name": "stdout",
          "text": [
            "📊 Average Price by Fuel Type:\n",
            "+---------+---------+\n",
            "|Fuel_Type|Avg_Price|\n",
            "+---------+---------+\n",
            "|   Diesel| 75079.81|\n",
            "|   Hybrid| 74797.55|\n",
            "| Electric| 75276.31|\n",
            "|   Petrol| 74990.42|\n",
            "+---------+---------+\n",
            "\n"
          ]
        }
      ]
    },
    {
      "cell_type": "code",
      "source": [
        "import matplotlib.pyplot as plt\n",
        "import pandas as pd"
      ],
      "metadata": {
        "id": "6E6BDxEjMpL4"
      },
      "execution_count": 28,
      "outputs": []
    },
    {
      "cell_type": "code",
      "source": [
        "sales_by_year = df.groupBy(\"Year\").sum(\"Sales_Volume\").orderBy(\"Year\")\n",
        "pdf = sales_by_year.toPandas()"
      ],
      "metadata": {
        "id": "IySHV3WFM9vR"
      },
      "execution_count": 29,
      "outputs": []
    },
    {
      "cell_type": "code",
      "source": [
        "plt.figure(figsize=(10,5))\n",
        "plt.plot(pdf[\"Year\"],pdf[\"sum(Sales_Volume)\"], marker='o')\n",
        "plt.title(\"BMW Sales Trend (2010–2024)\")\n",
        "plt.xlabel(\"Year\")\n",
        "plt.ylabel(\"Total Sales Volume\")\n",
        "plt.grid(True)\n",
        "plt.show()"
      ],
      "metadata": {
        "colab": {
          "base_uri": "https://localhost:8080/",
          "height": 432
        },
        "id": "wc8veDMVNVEt",
        "outputId": "71593e76-43b9-483c-fdf3-8d6d74df2237"
      },
      "execution_count": 30,
      "outputs": [
        {
          "output_type": "display_data",
          "data": {
            "text/plain": [
              "<Figure size 1000x500 with 1 Axes>"
            ],
            "image/png": "[encoded data removed]"
          },
          "metadata": {}
        }
      ]
    },
    {
      "cell_type": "code",
      "source": [],
      "metadata": {
        "id": "NhQCaDrjNxi3"
      },
      "execution_count": null,
      "outputs": []
    }
  ]
}